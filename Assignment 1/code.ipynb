{
 "cells": [
  {
   "cell_type": "code",
   "execution_count": null,
   "metadata": {
    "metadata": {}
   },
   "outputs": [],
   "source": [
    "from PIL import Image\n",
    "import numpy as np\n",
    "import matplotlib.pyplot as plt\n",
    "import cv2\n",
    "\n",
    "original = cv2.imread(\"bird.jpg\")\n",
    "original = cv2.cvtColor(original, cv2.COLOR_BGR2RGB)\n",
    "plt.imshow(original )\n",
    "plt.title(\"original\")\n",
    "chans=cv2.split(original)\n",
    "colors=(\"b\", \"g\", \"r\")\n",
    "plt.figure()\n",
    "plt.title(\"Color histogram\")\n",
    "for (chan, c) in zip(chans, colors):\n",
    "    hist=cv2.calcHist([chan], [0], None, [256], [0,256])\n",
    "    plt.plot(hist, color=c )\n",
    "    plt.xlim([0,256])\n",
    "plt.show()\n"
   ]
  },
  {
   "cell_type": "code",
   "execution_count": null,
   "metadata": {
    "metadata": {}
   },
   "outputs": [],
   "source": [
    "alpha = 4\n",
    "beta = 0\n",
    "changed = cv2.convertScaleAbs(original , alpha = alpha , beta = beta)\n",
    "plt.imshow(changed)\n",
    "plt.title(\"Contrast change\")\n",
    "plt.show()\n",
    "\n",
    "chans=cv2.split(changed)\n",
    "colors=(\"b\", \"g\", \"r\")\n",
    "plt.figure()\n",
    "plt.title(\"Color histogram - contrast change\")\n",
    "for (chan, c) in zip(chans, colors):\n",
    "    hist=cv2.calcHist([chan], [0], None, [256], [0,256])\n",
    "    plt.plot(hist, color=c )\n",
    "    plt.xlim([0,256])\n",
    "plt.show()"
   ]
  },
  {
   "cell_type": "code",
   "execution_count": null,
   "metadata": {
    "metadata": {}
   },
   "outputs": [],
   "source": [
    "alpha = 1\n",
    "beta = -50\n",
    "changed = cv2.convertScaleAbs(original , alpha = alpha , beta = beta)\n",
    "plt.imshow(changed)\n",
    "plt.title(\"Brightness change\")\n",
    "plt.show()\n",
    "\n",
    "chans=cv2.split(changed)\n",
    "colors=(\"b\", \"g\", \"r\")\n",
    "plt.figure()\n",
    "plt.title(\"Color histogram - brightness change\")\n",
    "for (chan, c) in zip(chans, colors):\n",
    "    hist=cv2.calcHist([chan], [0], None, [256], [0,256])\n",
    "    plt.plot(hist, color=c )\n",
    "    plt.xlim([0,256])\n",
    "plt.show()"
   ]
  }
 ],
 "metadata": {
  "kernelspec": {
   "display_name": "Python 3",
   "language": "python",
   "name": "python3"
  },
  "language_info": {
   "codemirror_mode": {
    "name": "ipython",
    "version": 3
   },
   "file_extension": ".py",
   "mimetype": "text/x-python",
   "name": "python",
   "nbconvert_exporter": "python",
   "pygments_lexer": "ipython3",
   "version": "3.12.1"
  }
 },
 "nbformat": 4,
 "nbformat_minor": 2
}
